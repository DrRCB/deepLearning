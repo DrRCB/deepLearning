{
  "nbformat": 4,
  "nbformat_minor": 0,
  "metadata": {
    "colab": {
      "provenance": []
    },
    "kernelspec": {
      "name": "python3",
      "display_name": "Python 3"
    },
    "language_info": {
      "name": "python"
    }
  },
  "cells": [
    {
      "cell_type": "code",
      "execution_count": 31,
      "metadata": {
        "id": "hryOWbo6jbhT"
      },
      "outputs": [],
      "source": [
        "import numpy as np\n",
        "import math"
      ]
    },
    {
      "cell_type": "code",
      "source": [
        "def relu(z):\n",
        "  return max(0,z)\n",
        "\n",
        "def derivativeRelu(z):\n",
        "  return z>0"
      ],
      "metadata": {
        "id": "RARP3U7HkLIf"
      },
      "execution_count": 32,
      "outputs": []
    },
    {
      "cell_type": "code",
      "source": [
        "def sig(z):\n",
        "  return 1/(1+math.exp(-z))\n",
        "def derivativesig(z):\n",
        "  return z*(1-z)"
      ],
      "metadata": {
        "id": "I7o270CJo1XW"
      },
      "execution_count": 33,
      "outputs": []
    },
    {
      "cell_type": "code",
      "source": [
        "#relu\n",
        "eta=1\n",
        "epoch=10\n",
        "\n",
        "a0=.25\n",
        "a1=.15\n",
        "y=0.0375\n",
        "\n",
        "w0=np.random.rand(1)\n",
        "w1=np.random.rand(1)\n",
        "b0=0\n",
        "print(str(w0)+\" \"+str(w1))\n",
        "\n",
        "for i in range(0,epoch):\n",
        "  #forward pass\n",
        "  z=a0*w0+a1*w1+b0\n",
        "  o=relu(z)\n",
        "  #o=sig(z)\n",
        "  #compute the cost\n",
        "  c=(o-y)**2\n",
        "  #backprop\n",
        "  #db0= rate of change of C wrt bo\n",
        "\n",
        "  db0=(o-y)*derivativeRelu(o)\n",
        "  dw0=(o-y)*derivativeRelu(o)*a0\n",
        "  dw1=(o-y)*derivativeRelu(o)*a1\n",
        "  #db0=(o-y)*derivativesig(o)\n",
        "  #dw0=(o-y)*derivativesig(o)*a0\n",
        "  #dw1=(o-y)*derivativesig(o)*a1\n",
        "\n",
        "  #update the parameters\n",
        "  b0=b0-eta*db0\n",
        "  w0=w0-eta*dw0\n",
        "  w1=w1-eta*dw1\n",
        "  print(\"0=\"+str(o)+\" cost=\"+str(c))"
      ],
      "metadata": {
        "colab": {
          "base_uri": "https://localhost:8080/"
        },
        "id": "4hmngJx1LnIX",
        "outputId": "c9d8d09f-07a0-49d1-81ad-690140cf8004"
      },
      "execution_count": 50,
      "outputs": [
        {
          "output_type": "stream",
          "name": "stdout",
          "text": [
            "[0.5349516] [0.06406883]\n",
            "0=[0.14334822] cost=[0.01120385]\n",
            "0=[0.0285029] cost=[8.09477905e-05]\n",
            "0=[0.03826475] cost=[5.84847786e-07]\n",
            "0=[0.037435] cost=[4.22552526e-09]\n",
            "0=[0.03750553] cost=[3.052942e-11]\n",
            "0=[0.03749953] cost=[2.20575059e-13]\n",
            "0=[0.03750004] cost=[1.5936548e-15]\n",
            "0=[0.0375] cost=[1.1514156e-17]\n",
            "0=[0.0375] cost=[8.31897727e-20]\n",
            "0=[0.0375] cost=[6.0104482e-22]\n"
          ]
        }
      ]
    },
    {
      "cell_type": "code",
      "source": [
        "#sig\n",
        "eta=1\n",
        "epoch=9000\n",
        "\n",
        "a0=.25\n",
        "a1=.15\n",
        "y=0.0375\n",
        "\n",
        "w0=np.random.rand(1)\n",
        "w1=np.random.rand(1)\n",
        "b0=0\n",
        "print(str(w0)+\" \"+str(w1))\n",
        "\n",
        "for i in range(0,epoch):\n",
        "  #forward pass\n",
        "  z=a0*w0+a1*w1+b0\n",
        "  #o=relu(z)\n",
        "  o=sig(z)\n",
        "  #compute the cost\n",
        "  c=(o-y)**2\n",
        "  #backprop\n",
        "  #db0= rate of change of C wrt bo\n",
        "\n",
        "  #db0=(o-y)*derivativeRelu(o)\n",
        "  #dw0=(o-y)*derivativeRelu(o)*a0\n",
        "  #dw1=(o-y)*derivativeRelu(o)*a1\n",
        "  db0=(o-y)*derivativesig(o)\n",
        "  dw0=(o-y)*derivativesig(o)*a0\n",
        "  dw1=(o-y)*derivativesig(o)*a1\n",
        "\n",
        "  #update the parameters\n",
        "  b0=b0-eta*db0\n",
        "  w0=w0-eta*dw0\n",
        "  w1=w1-eta*dw1\n",
        "  print(\"0=\"+str(o)+\" cost=\"+str(c))"
      ],
      "metadata": {
        "id": "GXVRK8Cjjk3I"
      },
      "execution_count": null,
      "outputs": []
    },
    {
      "cell_type": "code",
      "source": [
        "a0=.25\n",
        "a1=.1\n",
        "z=a0*w0+a1*w1+b0\n",
        "o=relu(z)\n",
        "print(o)"
      ],
      "metadata": {
        "colab": {
          "base_uri": "https://localhost:8080/"
        },
        "id": "Geud0KUIn-iY",
        "outputId": "95eadb96-000f-406c-e385-5213fab37596"
      },
      "execution_count": 16,
      "outputs": [
        {
          "output_type": "stream",
          "name": "stdout",
          "text": [
            "[0.00962256]\n"
          ]
        }
      ]
    },
    {
      "cell_type": "code",
      "source": [
        "x=np.arange(-10,10,.1)\n",
        "sigX=1/(1+np.exp(-x))\n",
        "dsig=sigX*(1-sigX)\n",
        "import matplotlib.pyplot as plt\n",
        "plt.plot(x,sigX)\n",
        "plt.plot(x,dsig)\n",
        "plt.show()"
      ],
      "metadata": {
        "colab": {
          "base_uri": "https://localhost:8080/",
          "height": 430
        },
        "id": "9phHYt4lqy3n",
        "outputId": "46f7d399-178e-434c-dda7-f865a6e7eecc"
      },
      "execution_count": 22,
      "outputs": [
        {
          "output_type": "display_data",
          "data": {
            "text/plain": [
              "<Figure size 640x480 with 1 Axes>"
            ],
            "image/png": "[encoded data removed]"
          },
          "metadata": {}
        }
      ]
    }
  ]
}